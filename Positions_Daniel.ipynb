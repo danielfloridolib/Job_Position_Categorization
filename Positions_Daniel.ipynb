{
 "cells": [
  {
   "cell_type": "code",
   "execution_count": 1,
   "metadata": {},
   "outputs": [],
   "source": [
    "# 1- IMPORTAR BIBLIOTECAS\n",
    "\n",
    "import pandas as pd\n",
    "import numpy as np\n",
    "import jellyfish"
   ]
  },
  {
   "cell_type": "code",
   "execution_count": 2,
   "metadata": {},
   "outputs": [
    {
     "name": "stderr",
     "output_type": "stream",
     "text": [
      "C:\\Users\\user\\mambaforge\\lib\\site-packages\\openpyxl\\worksheet\\_reader.py:312: UserWarning: Data Validation extension is not supported and will be removed\n",
      "  warn(msg)\n"
     ]
    }
   ],
   "source": [
    "# 2- IMPORTAR ARQUIVO\n",
    "\n",
    "positions_user = pd.read_excel('Connections_Daniel_Para Classificar.xlsx')"
   ]
  },
  {
   "cell_type": "code",
   "execution_count": 3,
   "metadata": {},
   "outputs": [],
   "source": [
    "\n",
    "\n",
    "#2.3- Criar o lookup_table\n",
    "\n",
    "# Translations between keywords and their category, as dict, as provided in question\n",
    "dicpositions = {'0 - CEO, Founder, Partner': ['Fundadora', 'CEO', 'Founder', 'Co-Founder', 'President', 'Sócio', 'Cofounder', 'Vice President', 'Vice Director', 'Owner', 'Founding Member', 'Partner', 'Chairman', 'Empreendedor', 'Empreendedora', 'Entrepreneur'],\n",
    "                '1 - Director of, CFO, CLO, C-Level': ['Director', 'Head', 'CFO', 'CTO', 'CLO', 'COO', 'Gerente Geral', 'Geral Manager', 'Executivo'],\n",
    "                '2 - Gerente, Supervisor, Coordenador': ['Líder', 'Gestor', 'Manager', 'Administrador', 'Gerente', 'Coordenador', 'Coordenadora', 'Supervisor'],\n",
    "                '3 - Engenheiro, Consultor Sênior': ['Engenheiro', 'Engineering', 'Consultor Sênior', 'Senior Consultant'],\n",
    "                '4 - Consultor, Analista, Especialista': ['Design', 'Designer', 'Product', 'Consultor', 'Consultoria', 'Consultant', 'Analista', 'Analyst', 'Specialist'],\n",
    "                '5 - Estagiário, Bolsista, Estudante': ['Internship','Consultor Júnior', 'Estágio', 'Iniciação Científica', 'Bolsista', 'Estagiário', 'Intern', 'Estudante'],\n",
    "                '6 - Autônomo, Desempregado': ['Projetos', 'Self-Employed', 'Autônomo', 'Freelancer', 'Writer'],\n",
    "                '7 - Professor, Pesquisador, Acadêmico': ['Decano', 'Schoolar', 'Acadêmico', 'Professor', 'Researcher', 'Research', 'Professora', 'Pedagógico', 'Bacharelado', 'Curso', 'MBA'],\n",
    "                '8 - Advogado': ['Advogado', 'Lawyer', 'Advogada'],\n",
    "                '9 - Assessor': ['Assessor', 'Assessora', 'Secretária'],\n",
    "                '10 - Assistente, Auxiliar': ['Assistente', 'Auxiliar', 'Assistant'],\n",
    "                'Not found': [\"(blank)\"]  # <-- I added this to deal with blank values\n",
    "               }\n",
    "\n",
    "# Let's expand the dict above to a DF, which makes for easier merging later\n",
    "positions = []\n",
    "aliases_geral = []\n",
    "for key, val in dicpositions.items():\n",
    "    for v in val:\n",
    "        positions.append(key)\n",
    "        aliases_geral.append(v)\n",
    "# This will serve as our mapping table\n",
    "lookup_table= pd.DataFrame({\n",
    "    \"alias\": aliases_geral,\n",
    "    \"PositionsLevels\": positions  \n",
    "})"
   ]
  },
  {
   "cell_type": "code",
   "execution_count": 6,
   "metadata": {},
   "outputs": [],
   "source": [
    "# 2.4 - PREENCHER ESPAÇOS VAZIOS E DIVIDIR CADA POSITION EM PALAVRAS\n",
    "\n",
    "post = positions_user['Position'].fillna('(blank)')\n",
    "\n",
    "post_df = post.str.split()\n"
   ]
  },
  {
   "cell_type": "code",
   "execution_count": 7,
   "metadata": {},
   "outputs": [],
   "source": [
    "#3.1 - List of the alias of 1\n",
    "\n",
    "#'pos' will always be the short from 'positions'\n",
    "pos = []\n",
    "n2 = len(aliases_geral)\n",
    "x = 0\n",
    "alias_merge = []\n",
    "pos_merge = []\n",
    "pos_merge_final = []\n",
    "\n",
    "\n",
    "while x < len(post_df):\n",
    "    pos = post_df[x]*n2\n",
    "    \n",
    "    aliases = []\n",
    "    \n",
    "    #it's to creat a variable len\n",
    "    n2 = len(aliases_geral)\n",
    "    i = 0\n",
    "    alias = 0\n",
    "\n",
    "    while alias < n2:\n",
    "        while i < len(post_df[x]):\n",
    "            aliases.append(aliases_geral[alias])    \n",
    "            i += 1\n",
    "        i = 0\n",
    "        alias += 1       \n",
    "    \n",
    "    #3.2 - MAKE THE DF COMPARE\n",
    "    compare = pd.DataFrame({'Alias' : aliases, 'Position_Frag' : pos})\n",
    "    \n",
    "    #4- ADICIONAR COLUNA COM JAIRO WINKLER\n",
    "    compare['res'] = [jellyfish.jaro_winkler(x, y) for x, y in zip(compare['Position_Frag'], compare['Alias'])]\n",
    "    \n",
    "    #5.1- SELECIONAR O CARGO DA POSITIONS E DO ALIAS    \n",
    "    cargo = []\n",
    "    cargo_compare = []\n",
    "    cargo.append(compare[compare['res'] == compare['res'].max()]['Position_Frag'])\n",
    "    cargo_compare.append(compare[compare['res'] == compare['res'].max()]['Alias'])\n",
    "    \n",
    "    \n",
    "    #5.2- TRANSFORMAR A SERIES EM STR\n",
    "    alias_bruto = []\n",
    "    pos_bruto = []\n",
    "    alias_final = []\n",
    "    pos_final = []\n",
    "    \n",
    "    alias_bruto.append(pd.Series.to_string(cargo[0]))\n",
    "    pos_bruto.append(pd.Series.to_string(cargo_compare[0]))\n",
    "    \n",
    "    \n",
    "    #6.1- SELECT ONLY THE ROLE\n",
    "    alias_primario = alias_bruto[0].split()[1:]\n",
    "    pos_primario = pos_bruto[0].split()[1:]\n",
    "    \n",
    "    \n",
    "    #6.2- SELECT ONLY THE FIRST ROLE\n",
    "    if len(alias_primario) > 0:\n",
    "        alias_primario = alias_primario.pop(0)\n",
    "        alias_final.append(alias_primario)\n",
    "    \n",
    "    if len(pos_primario) > 0:\n",
    "        pos_primario = pos_primario.pop(0)\n",
    "        pos_final.append(pos_primario)\n",
    "    \n",
    "    #6.3- ADD THE ROLE TO THE LIST THAT WILL MERGE WITH THE LOOKUP_TABLE\n",
    "    \n",
    "    alias_merge.append(alias_final[0])\n",
    "    pos_merge.append(pos_final[0])\n",
    "\n",
    "    alias = 0\n",
    "    x += 1\n",
    "    \n",
    "##############STEPS AFTER COMPLETION OF ALIAS_MERGE#################\n",
    "\n",
    "#7- CREATE THE DATAFRAME WITH THE ALIAS_MERGE\n",
    "\n",
    "alias_df = pd.DataFrame({'Alias': pos_merge,                         \n",
    "                         'PosMatch': alias_merge}) \n",
    "\n",
    "#8- MERGE WITH THE LOOKUP_TABLE\n",
    "    \n",
    "result_test = alias_df.merge(lookup_table, left_on=\"Alias\", right_on=\"alias\", how=\"left\")\n",
    "\n",
    "#9- ADD TO THE POSLEAN\n",
    "\n",
    "positions_user['PoitionLevel'] = result_test['PositionsLevels']\n",
    "\n",
    "#PREVIEW DATAFRAME - the line bellow is commented so that the data wont be exposed\n",
    "#positions_user"
   ]
  },
  {
   "cell_type": "code",
   "execution_count": 8,
   "metadata": {},
   "outputs": [],
   "source": [
    "# 10 - EXPORT DF\n",
    "\n",
    "positions_user.to_excel('Conexões Daniel_Position Level_V2.xlsx', index = False)\n"
   ]
  },
  {
   "cell_type": "code",
   "execution_count": null,
   "metadata": {},
   "outputs": [],
   "source": []
  }
 ],
 "metadata": {
  "kernelspec": {
   "display_name": "Python 3 (ipykernel)",
   "language": "python",
   "name": "python3"
  },
  "language_info": {
   "codemirror_mode": {
    "name": "ipython",
    "version": 3
   },
   "file_extension": ".py",
   "mimetype": "text/x-python",
   "name": "python",
   "nbconvert_exporter": "python",
   "pygments_lexer": "ipython3",
   "version": "3.9.7"
  }
 },
 "nbformat": 4,
 "nbformat_minor": 2
}
